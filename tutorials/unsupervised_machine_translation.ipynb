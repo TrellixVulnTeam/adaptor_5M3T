{
 "cells": [
  {
   "cell_type": "markdown",
   "metadata": {},
   "source": [
    "# Unsupervised vs. Supervised Machine Translation\n",
    "\n",
    "In this tutorial, we'll use Adaptor to look at the **difference in accuracy** when training domain-specific translator using standard **Supervised** vs. **Unsupervised objectives**. We'll also use one extra domain to estimate the distributional **robustness** of our translator throughout the adaptation.\n",
    "\n",
    "* For the supervised adaptation and evaluations, we'll use standard *Sequence2Sequence* (i.e. MLE) objective.\n",
    "* For the unsupervised adaptation, we'll use Adaptor's unsupervised *BackTranslation* objectice."
   ]
  },
  {
   "cell_type": "markdown",
   "metadata": {},
   "source": [
    "#### Requirements"
   ]
  },
  {
   "cell_type": "code",
   "execution_count": 1,
   "metadata": {
    "colab": {
     "base_uri": "https://localhost:8080/"
    },
    "id": "SB2KDo6-XP7l",
    "outputId": "c4b6be6a-af86-42f9-d433-d13e2c94d7aa"
   },
   "outputs": [],
   "source": [
    "# %%capture\n",
    "\n",
    "!git clone https://github.com/gaussalgo/adaptor.git\n",
    "!pip install -e adaptor"
   ]
  },
  {
   "cell_type": "code",
   "execution_count": 2,
   "metadata": {},
   "outputs": [],
   "source": [
    "# add the utils directory to the working directory, so we can easily import it\n",
    "!mv adaptor/examples ."
   ]
  },
  {
   "cell_type": "markdown",
   "metadata": {},
   "source": [
    "### Dataset resolution\n",
    "\n",
    "We will use Adaptor's `OPUSDataset` wrapper available in [/examples](https://github.com/gaussalgo/adaptor/blob/master/examples/data_utils_opus.py) of github repo. For a supported set of domains, this wrapper will download or reload the cached dataset and parse it into `source` and `target` list of strings. New domains can be added by [adding their urls](https://github.com/gaussalgo/adaptor/blob/db33e6e439babc68fe801a8946d87116ff44f170/examples/data_utils_opus.py#L10) from [https://opus.nlpl.eu](https://opus.nlpl.eu/).\n",
    "\n",
    "Note that `data_utils_opus.py` also takes care of deduplicating the datasets - if the sample of given source text was already loaded, it will be skipped in the next-loaded `OPUSDataset`s. This is to make sure that no data leakage between train and validation splits exist."
   ]
  },
  {
   "cell_type": "code",
   "execution_count": 3,
   "metadata": {},
   "outputs": [
    {
     "name": "stderr",
     "output_type": "stream",
     "text": [
      "Dropping 82264 duplicates from wikimedia train split.\n",
      "Dropping 10283 duplicates from wikimedia val split.\n",
      "Dropping 10284 duplicates from wikimedia test split.\n",
      "Dropping 33877148 duplicates from OpenSubtitles train split.\n",
      "Dropping 4234644 duplicates from OpenSubtitles val split.\n",
      "Dropping 4234644 duplicates from OpenSubtitles test split.\n"
     ]
    }
   ],
   "source": [
    "from examples.data_utils_opus import OPUSDataset\n",
    "\n",
    "src_lang = \"cs\"\n",
    "tgt_lang = \"en\"\n",
    "\n",
    "data_dir = \"examples\"\n",
    "\n",
    "val_size = 100\n",
    "test_size = 1000\n",
    "\n",
    "wiki_pairs = OPUSDataset(\"wikimedia\", \"train\", src_lang, tgt_lang, data_dir=data_dir)\n",
    "wiki_val_pairs = OPUSDataset(\"wikimedia\", \"val\", src_lang, tgt_lang, data_dir=data_dir, firstn=val_size)\n",
    "wiki_test_pairs = OPUSDataset(\"wikimedia\", \"test\", src_lang, tgt_lang, data_dir=data_dir, firstn=test_size)\n",
    "\n",
    "opensub_pairs = OPUSDataset(\"OpenSubtitles\", \"train\", src_lang, tgt_lang, data_dir=data_dir, firstn=val_size)\n",
    "opensub_val_pairs = OPUSDataset(\"OpenSubtitles\", \"val\", src_lang, tgt_lang, data_dir=data_dir, firstn=val_size)\n",
    "opensub_test_pairs = OPUSDataset(\"OpenSubtitles\", \"test\", src_lang, tgt_lang, data_dir=data_dir, firstn=test_size)"
   ]
  },
  {
   "cell_type": "code",
   "execution_count": 4,
   "metadata": {},
   "outputs": [
    {
     "data": {
      "text/plain": [
       "['Ukrajinský lékař ortoped-traumatologist nejvyšší kategorie, MUDr, vedoucí výzkumník z kloubních onemocnění u dospělých státní instituce \"Instituce traumatologie a ortopedie NAMS Ukrajiny\"',\n",
       " 'Martha Elefteriadu (* 12. září 1946 Bulkes, Jugoslávie) je česká zpěvačka řeckého původu, polovina pěveckého dua Martha a Tena, které již od mládí tvoří se svojí sestrou Tenou Elefteriadu.',\n",
       " 'Životopis',\n",
       " 'Pochází z rodiny řeckých emigrantů, jež uprchla z Řecka kvůli občanské válce a usadila se v roce 1950 v někdejším Československu.',\n",
       " 'Jejich maminka zemřela brzy v dětství a obě dívky vyrůstaly v dětském domově pro řecké děti v Ivančicích.',\n",
       " 'Martha po maturitě na gymnáziu studovala nejprve medicinu, později přestoupila na studium psychologie, které dokončila na Karlově univerzitě v Praze.',\n",
       " 'Koncem šedesátých let se obě sestry seznamují s kytaristou Alešem Sigmundem ze skupiny Vulkán, který oběma zpěvačkám pomáhá vytvořit pevné autorské a muzikantské zázemí.',\n",
       " 'Jejich první nahrávky pocházejí z roku 1968, v roce 1970 vydávají svoji první LP dlouhohrající desku u vydavatelství Panton Dál než slunce vstává.',\n",
       " 'Od té doby jsou obě sestry stálicemi české populární hudby.',\n",
       " 'Za dobu svého působení zde spolupracovaly s celou řadou renomovaných umělců.']"
      ]
     },
     "execution_count": 4,
     "metadata": {},
     "output_type": "execute_result"
    }
   ],
   "source": [
    "wiki_pairs.source[:10]"
   ]
  },
  {
   "cell_type": "markdown",
   "metadata": {},
   "source": [
    "^^ this is a default format of the **samples** of Sequence2Sequence and inherited objectives"
   ]
  },
  {
   "cell_type": "code",
   "execution_count": 5,
   "metadata": {},
   "outputs": [
    {
     "data": {
      "text/plain": [
       "['Ukrainian doctor orthopedic traumatologist highest category, Doctor of Medical Science, senior researcher of joint disease of adults of government institution \"Institute of Traumatology and Orthopedics NAMS Ukraine\"',\n",
       " 'Martha a Tena is a Czech music duo whose members are sisters Martha Elefteriadu and Tena Elefteriadu. Martha Elefteriadu (* 12. září 1946 Bulkes, Jugoslávie) is a Czech singer of řeckého původu, half of the duo Martha a Tena, together with her sister Tena Elefteriadu. Tena Elefteriadu, born as Partena Elefteriadu (*16.',\n",
       " 'Personal Life',\n",
       " 'Their family emigrated from Řecka because of the občanské válce and settled in 1950 in former Československu.',\n",
       " 'Their mother died while they were children, so they grew up in a dětském domově for Greek immigrants in Ivančicích.',\n",
       " 'Martha, after maturitě at a gymnáziu studied first general medicine, then changed major to psychologie, and graduated from Karlově univerzitě in Prague.',\n",
       " \"Tena has a son Marko Elefteriadis, a rapper who performs under stage name Ektor. Career At the end of the 1960's the sisters met a guitarist Aleš Sigmund from band Vulkán, who helped them create strong autorské and muzikantské foundations.\",\n",
       " 'Their first records are from 1968, in 1970 they released their first LP dlouhohrající desku with Panton Dál než slunce vstává.',\n",
       " 'They quickly established themselves in Czech populární hudby.',\n",
       " 'They collaborated with a series of famous artists.']"
      ]
     },
     "execution_count": 5,
     "metadata": {},
     "output_type": "execute_result"
    }
   ],
   "source": [
    "wiki_pairs.target[:10]"
   ]
  },
  {
   "cell_type": "markdown",
   "metadata": {},
   "source": [
    "^^ this is a default format of the **labels** of Sequence2Sequence and inherited objectives"
   ]
  },
  {
   "cell_type": "markdown",
   "metadata": {},
   "source": [
    "## Running adaptation"
   ]
  },
  {
   "cell_type": "markdown",
   "metadata": {},
   "source": [
    "As our base translator for adaptation, we pick a general Helsinki-NLP model. This model has an architecture of the Transformer-base and has been pre-trained on a bulk dump of a subset of OPUS domains. Likely, it has already been exposed to our domains of adaptation and evaluation (Wiki & OpenSubtitles)."
   ]
  },
  {
   "cell_type": "code",
   "execution_count": 6,
   "metadata": {},
   "outputs": [],
   "source": [
    "from adaptor.lang_module import LangModule\n",
    "\n",
    "lang_module = LangModule(\"Helsinki-NLP/opus-mt-%s-%s\" % (src_lang, tgt_lang))"
   ]
  },
  {
   "cell_type": "markdown",
   "metadata": {},
   "source": [
    "Throughout the training, we evaluate model's BLEU. \n",
    "\n",
    "Using the identical interface, Adaptor allows you to evaluate any of other generative measures, that can better fit your task. Alternatively, you can relatively easily also implement your own generative evaluator. \n",
    "Take a look [here](https://github.com/gaussalgo/adaptor/blob/db33e6e439babc68fe801a8946d87116ff44f170/adaptor/evaluators/generative.py).\n",
    "\n"
   ]
  },
  {
   "cell_type": "code",
   "execution_count": 7,
   "metadata": {},
   "outputs": [],
   "source": [
    "from adaptor.evaluators.generative import BLEU\n",
    "\n",
    "evaluators = [BLEU(additional_sep_char=\"▁\", decides_convergence=True)]  # \"▁\" is a specific separation token that sometimes relains left after output decoding."
   ]
  },
  {
   "cell_type": "markdown",
   "metadata": {},
   "source": [
    "### Supervised adaptation\n",
    "\n",
    "In the first experiment, we use standard Sequence2Sequence (also used under a name MLE -Maximum Likelihood Estimation- objective). This objective maximises probability of every subsequent token under the assuptions of given input and the coreectly-generated preceding output.\n",
    "\n",
    "Adaptor Objectives provide high-level interface, expecting both the input texts and output texts (=labels) in a form of:\n",
    "* either a `List[str]`, with the texts and labels of the matching length\n",
    "* or a paths to a `.txt` files with one sample / label per line."
   ]
  },
  {
   "cell_type": "code",
   "execution_count": 8,
   "metadata": {},
   "outputs": [],
   "source": [
    "from adaptor.objectives.seq2seq import Sequence2Sequence\n",
    "\n",
    "seq_wiki = Sequence2Sequence(lang_module,\n",
    "                             texts_or_path=wiki_pairs.source,\n",
    "                             labels_or_path=wiki_pairs.target,\n",
    "                             val_texts_or_path=wiki_val_pairs.source,\n",
    "                             val_labels_or_path=wiki_val_pairs.target,\n",
    "                             source_lang_id=src_lang,\n",
    "                             target_lang_id=tgt_lang,\n",
    "                             batch_size=8,\n",
    "                             val_evaluators=evaluators,\n",
    "                             objective_id=\"Wiki\")"
   ]
  },
  {
   "cell_type": "markdown",
   "metadata": {},
   "source": [
    "Using the same interface, we also instantiate objectives used only for evaluation. \n",
    "\n",
    "Note that in order to avoid initialising a separate head of the shared model, you need to pass `share_other_objective_head` argument with a reference to other objective that will fully share its model with the new objective. The head of the evaluation objective would otherwise never be tuned. "
   ]
  },
  {
   "cell_type": "code",
   "execution_count": 9,
   "metadata": {},
   "outputs": [
    {
     "name": "stderr",
     "output_type": "stream",
     "text": [
      "2022-05-18 15:31:49 | WARNING | root | Objective Opensub-Sequence2Sequence will use SEQ2SEQ head of Wiki-Sequence2Sequence objective\n",
      "2022-05-18 15:31:50 | WARNING | root | These layers of the loaded SEQ2SEQ were not merged: []\n"
     ]
    }
   ],
   "source": [
    "eval_opensub = Sequence2Sequence(lang_module,\n",
    "                                 texts_or_path=opensub_pairs.source,\n",
    "                                 labels_or_path=opensub_pairs.target,\n",
    "                                 val_texts_or_path=opensub_val_pairs.source,\n",
    "                                 val_labels_or_path=opensub_val_pairs.target,\n",
    "                                 source_lang_id=src_lang,\n",
    "                                 target_lang_id=tgt_lang,\n",
    "                                 batch_size=8,\n",
    "                                 val_evaluators=evaluators,\n",
    "                                 share_other_objective_head=seq_wiki,\n",
    "                                 objective_id=\"Opensub\")"
   ]
  },
  {
   "cell_type": "markdown",
   "metadata": {},
   "source": [
    "Once we are done with the datasets, objectives and evaluators, we set up the `AdaptationArguments`. These are a small extension of 🤗 's [TrainingArguments](https://huggingface.co/docs/transformers/main_classes/trainer?highlight=launch#transformers.TrainingArguments), the extra parameters are documented with [AdaptationArguments definition](https://github.com/gaussalgo/adaptor/blob/db33e6e439babc68fe801a8946d87116ff44f170/adaptor/utils.py#L77)."
   ]
  },
  {
   "cell_type": "code",
   "execution_count": 10,
   "metadata": {},
   "outputs": [
    {
     "name": "stderr",
     "output_type": "stream",
     "text": [
      "comet_ml is installed but `COMET_API_KEY` is not set.\n"
     ]
    }
   ],
   "source": [
    "from adaptor.utils import AdaptationArguments, StoppingStrategy\n",
    "\n",
    "training_arguments = AdaptationArguments(output_dir=\"experiments\",\n",
    "                                         learning_rate=2e-5,\n",
    "                                         stopping_strategy=StoppingStrategy.ALL_OBJECTIVES_CONVERGED,\n",
    "                                         stopping_patience=5,\n",
    "                                         do_train=True,\n",
    "                                         do_eval=True,\n",
    "                                         warmup_steps=5000,\n",
    "                                         gradient_accumulation_steps=4,\n",
    "                                         logging_steps=100,\n",
    "                                         eval_steps=100,\n",
    "                                         save_steps=1000,\n",
    "                                         num_train_epochs=10,\n",
    "                                         evaluation_strategy=\"steps\")"
   ]
  },
  {
   "cell_type": "markdown",
   "metadata": {},
   "source": [
    "Then, we define a `Schedule`, defining an order of application of selected `Objective`s. If our training is a single-objective, we can pick any Schedule available - it makes no difference."
   ]
  },
  {
   "cell_type": "markdown",
   "metadata": {},
   "source": [
    "Finally, we define a main object called `Adapter`: this is again merely a small adjustment of 🤗  [Trainer](https://huggingface.co/docs/transformers/main_classes/trainer?highlight=launch#transformers.Trainer), that takes care of data iteration according to selected `Schedule`, collection of `Objective`s' logs or applying selected multi-objective early-stopping strategy."
   ]
  },
  {
   "cell_type": "code",
   "execution_count": 11,
   "metadata": {},
   "outputs": [
    {
     "name": "stderr",
     "output_type": "stream",
     "text": [
      "2022-05-18 15:31:50 | WARNING | root | Total number of train samples: 73835\n",
      "2022-05-18 15:31:50 | WARNING | root | Total number of eval samples: 200\n"
     ]
    }
   ],
   "source": [
    "from adaptor.schedules import SequentialSchedule\n",
    "from adaptor.adapter import Adapter\n",
    "\n",
    "schedule = SequentialSchedule(objectives=[seq_wiki],\n",
    "                              extra_eval_objectives=[eval_opensub],\n",
    "                              args=training_arguments)\n",
    "adapter = Adapter(lang_module, schedule, args=training_arguments)"
   ]
  },
  {
   "cell_type": "code",
   "execution_count": 12,
   "metadata": {},
   "outputs": [
    {
     "name": "stderr",
     "output_type": "stream",
     "text": [
      "***** Running training *****\n",
      "  Num examples = 92290\n",
      "  Num Epochs = 10\n",
      "  Instantaneous batch size per device = 1\n",
      "  Total train batch size (w. parallel, distributed & accumulation) = 4\n",
      "  Gradient Accumulation steps = 4\n",
      "  Total optimization steps = 230720\n",
      "2022-05-18 15:31:54 | WARNING | root | Converged objectives: []\n",
      "Wiki-Sequence2Sequence:   4%|▍         | 400/9229 [00:51<17:09,  8.57batches/s, epoch=1, loss=4.65, split=train] 2022-05-18 15:32:46 | WARNING | root | Converged objectives: []\n",
      "2022-05-18 15:32:46 | WARNING | root | Evaluating...\n",
      "***** Running Evaluation *****\n",
      "  Num examples = 24\n",
      "  Batch size = 1\n"
     ]
    },
    {
     "name": "stdout",
     "output_type": "stream",
     "text": [
      "{'loss': 2.4617, 'learning_rate': 4.0000000000000003e-07, 'train_Wiki-Sequence2Sequence_loss': 3.1017318576574326, 'train_Wiki-Sequence2Sequence_num_batches': 20, 'epoch': 0.0}\n"
     ]
    },
    {
     "name": "stderr",
     "output_type": "stream",
     "text": [
      "Wiki-Sequence2Sequence: 100%|██████████| 12/12 [00:00<00:00,  9.92batches/s, epoch=1, loss=1.46, split=eval]\n",
      "Opensub-Sequence2Sequence:   0%|          | 0/12 [00:00<?, ?batches/s]\u001B[A\n",
      "Opensub-Sequence2Sequence:  50%|█████     | 6/12 [00:00<00:00, 58.02batches/s, epoch=0, loss=0.966, split=eval]\u001B[A\n",
      "Wiki-Sequence2Sequence: 13batches [00:01, 10.74batches/s, epoch=1, loss=4.32, split=eval]                   al]\u001B[A\n",
      "Opensub-Sequence2Sequence: 13batches [00:15,  1.19s/batches, epoch=0, loss=0.737, split=eval]                  \n",
      "2022-05-18 15:33:06 | WARNING | root | Converged objectives: []\n",
      "Wiki-Sequence2Sequence:   4%|▍         | 402/9229 [01:12<9:37:00,  3.92s/batches, epoch=1, loss=3.73, split=train] "
     ]
    },
    {
     "name": "stdout",
     "output_type": "stream",
     "text": [
      "{'eval_loss': 1.6360028982162476, 'eval_runtime': 1.2126, 'eval_samples_per_second': 164.935, 'eval_steps_per_second': 164.935, 'eval_Wiki-Sequence2Sequence_loss': 2.132140645614037, 'eval_Wiki-Sequence2Sequence_num_batches': 13, 'eval_Wiki-Sequence2Sequence_BLEU-gen': 40.082749105757074, 'eval_Opensub-Sequence2Sequence_loss': 1.1398652287629933, 'eval_Opensub-Sequence2Sequence_num_batches': 13, 'eval_Opensub-Sequence2Sequence_BLEU-gen': 33.1747919975654, 'epoch': 0.0}\n"
     ]
    },
    {
     "name": "stderr",
     "output_type": "stream",
     "text": [
      "Wiki-Sequence2Sequence:   9%|▊         | 799/9229 [02:07<19:51,  7.08batches/s, epoch=1, loss=1.52, split=train]  2022-05-18 15:34:02 | WARNING | root | Converged objectives: []\n",
      "2022-05-18 15:34:02 | WARNING | root | Evaluating...\n",
      "***** Running Evaluation *****\n",
      "  Num examples = 24\n",
      "  Batch size = 1\n"
     ]
    },
    {
     "name": "stdout",
     "output_type": "stream",
     "text": [
      "{'loss': 2.5779, 'learning_rate': 8.000000000000001e-07, 'train_Wiki-Sequence2Sequence_loss': 2.8302815437316893, 'train_Wiki-Sequence2Sequence_num_batches': 20, 'epoch': 0.01}\n"
     ]
    },
    {
     "name": "stderr",
     "output_type": "stream",
     "text": [
      "Wiki-Sequence2Sequence:   0%|          | 0/12 [01:14<?, ?batches/s, epoch=1, loss=-1, split=eval]\n",
      "Wiki-Sequence2Sequence: 100%|██████████| 12/12 [00:00<00:00,  9.66batches/s, epoch=1, loss=1.44, split=eval]\n",
      "Opensub-Sequence2Sequence:   0%|          | 0/12 [01:00<?, ?batches/s, epoch=0, loss=-1, split=eval]\n",
      "\n",
      "Opensub-Sequence2Sequence:  50%|█████     | 6/12 [00:00<00:00, 57.51batches/s, epoch=0, loss=0.958, split=eval]\u001B[A\n",
      "Wiki-Sequence2Sequence: 13batches [00:01, 10.41batches/s, epoch=1, loss=4.29, split=eval]                   al]\u001B[A\n",
      "\n",
      "Opensub-Sequence2Sequence: 13batches [00:14,  1.15s/batches, epoch=0, loss=0.727, split=eval]                  \u001B[A\n",
      "2022-05-18 15:34:22 | WARNING | root | Converged objectives: []\n",
      "Wiki-Sequence2Sequence:   9%|▊         | 803/9229 [02:27<6:38:52,  2.84s/batches, epoch=1, loss=2.35, split=train] "
     ]
    },
    {
     "name": "stdout",
     "output_type": "stream",
     "text": [
      "{'eval_loss': 1.6195905208587646, 'eval_runtime': 1.2517, 'eval_samples_per_second': 159.785, 'eval_steps_per_second': 159.785, 'eval_Wiki-Sequence2Sequence_loss': 2.120600416110112, 'eval_Wiki-Sequence2Sequence_num_batches': 26, 'eval_Wiki-Sequence2Sequence_BLEU-gen': 40.468985817613984, 'eval_Opensub-Sequence2Sequence_loss': 1.1349929800400367, 'eval_Opensub-Sequence2Sequence_num_batches': 26, 'eval_Opensub-Sequence2Sequence_BLEU-gen': 33.83879196529923, 'epoch': 0.01}\n"
     ]
    },
    {
     "name": "stderr",
     "output_type": "stream",
     "text": [
      "Wiki-Sequence2Sequence:  13%|█▎        | 1200/9229 [03:20<15:16,  8.76batches/s, epoch=1, loss=3.56, split=train] 2022-05-18 15:35:15 | WARNING | root | Converged objectives: []\n",
      "2022-05-18 15:35:15 | WARNING | root | Evaluating...\n",
      "***** Running Evaluation *****\n",
      "  Num examples = 24\n",
      "  Batch size = 1\n"
     ]
    },
    {
     "name": "stdout",
     "output_type": "stream",
     "text": [
      "{'loss': 2.0675, 'learning_rate': 1.2000000000000002e-06, 'train_Wiki-Sequence2Sequence_loss': 2.020648795366287, 'train_Wiki-Sequence2Sequence_num_batches': 20, 'epoch': 0.01}\n"
     ]
    },
    {
     "name": "stderr",
     "output_type": "stream",
     "text": [
      "Wiki-Sequence2Sequence:   0%|          | 0/12 [01:11<?, ?batches/s, epoch=1, loss=-1, split=eval]\n",
      "Wiki-Sequence2Sequence: 100%|██████████| 12/12 [00:00<00:00,  9.52batches/s, epoch=1, loss=1.42, split=eval]\n",
      "Opensub-Sequence2Sequence:   0%|          | 0/12 [00:57<?, ?batches/s, epoch=0, loss=-1, split=eval]\n",
      "\n",
      "Opensub-Sequence2Sequence:  50%|█████     | 6/12 [00:00<00:00, 55.40batches/s, epoch=0, loss=0.948, split=eval]\u001B[A\n",
      "Wiki-Sequence2Sequence: 13batches [00:01, 10.31batches/s, epoch=1, loss=4.26, split=eval]                   al]\u001B[A\n",
      "Opensub-Sequence2Sequence: 13batches [00:17,  1.35s/batches, epoch=0, loss=0.707, split=eval]                  \n",
      "2022-05-18 15:35:38 | WARNING | root | Converged objectives: []\n",
      "Wiki-Sequence2Sequence:  13%|█▎        | 1201/9229 [03:43<12:56:49,  5.81s/batches, epoch=1, loss=4.17, split=train]"
     ]
    },
    {
     "name": "stdout",
     "output_type": "stream",
     "text": [
      "{'eval_loss': 1.6039254665374756, 'eval_runtime': 1.2638, 'eval_samples_per_second': 158.254, 'eval_steps_per_second': 158.254, 'eval_Wiki-Sequence2Sequence_loss': 2.1103171752049374, 'eval_Wiki-Sequence2Sequence_num_batches': 39, 'eval_Wiki-Sequence2Sequence_BLEU-gen': 40.70180013944074, 'eval_Opensub-Sequence2Sequence_loss': 1.1293619382075775, 'eval_Opensub-Sequence2Sequence_num_batches': 39, 'eval_Opensub-Sequence2Sequence_BLEU-gen': 33.59675622896459, 'epoch': 0.01}\n"
     ]
    },
    {
     "name": "stderr",
     "output_type": "stream",
     "text": [
      "Wiki-Sequence2Sequence:  17%|█▋        | 1600/9229 [04:34<19:54,  6.39batches/s, epoch=1, loss=2.71, split=train]   2022-05-18 15:36:28 | WARNING | root | Converged objectives: []\n",
      "2022-05-18 15:36:28 | WARNING | root | Evaluating...\n",
      "***** Running Evaluation *****\n",
      "  Num examples = 24\n",
      "  Batch size = 1\n"
     ]
    },
    {
     "name": "stdout",
     "output_type": "stream",
     "text": [
      "{'loss': 2.0801, 'learning_rate': 1.6000000000000001e-06, 'train_Wiki-Sequence2Sequence_loss': 2.0120967388153077, 'train_Wiki-Sequence2Sequence_num_batches': 20, 'epoch': 0.02}\n"
     ]
    },
    {
     "name": "stderr",
     "output_type": "stream",
     "text": [
      "Wiki-Sequence2Sequence:   0%|          | 0/12 [01:12<?, ?batches/s, epoch=1, loss=-1, split=eval]\n",
      "Wiki-Sequence2Sequence: 100%|██████████| 12/12 [00:00<00:00,  9.64batches/s, epoch=1, loss=1.4, split=eval] \n",
      "Opensub-Sequence2Sequence:   0%|          | 0/12 [00:56<?, ?batches/s, epoch=0, loss=-1, split=eval]\n",
      "\n",
      "Opensub-Sequence2Sequence:  50%|█████     | 6/12 [00:00<00:00, 52.20batches/s, epoch=0, loss=0.939, split=eval]\u001B[A\n",
      "Wiki-Sequence2Sequence: 13batches [00:01, 10.20batches/s, epoch=1, loss=4.25, split=eval]                  val]\u001B[A\n",
      "\n",
      "Opensub-Sequence2Sequence: 13batches [00:22,  1.72s/batches, epoch=0, loss=0.69, split=eval]                   \u001B[A\n",
      "2022-05-18 15:36:56 | WARNING | root | Converged objectives: []\n",
      "Wiki-Sequence2Sequence:  17%|█▋        | 1602/9229 [05:02<12:03:57,  5.70s/batches, epoch=1, loss=6.33, split=train]"
     ]
    },
    {
     "name": "stdout",
     "output_type": "stream",
     "text": [
      "{'eval_loss': 1.5907896757125854, 'eval_runtime': 1.2792, 'eval_samples_per_second': 156.343, 'eval_steps_per_second': 156.343, 'eval_Wiki-Sequence2Sequence_loss': 2.100764954319367, 'eval_Wiki-Sequence2Sequence_num_batches': 52, 'eval_Wiki-Sequence2Sequence_BLEU-gen': 40.686281717602974, 'eval_Opensub-Sequence2Sequence_loss': 1.1243891773315577, 'eval_Opensub-Sequence2Sequence_num_batches': 52, 'eval_Opensub-Sequence2Sequence_BLEU-gen': 33.59989581829224, 'epoch': 0.02}\n"
     ]
    },
    {
     "name": "stderr",
     "output_type": "stream",
     "text": [
      "Wiki-Sequence2Sequence:  22%|██▏       | 2000/9229 [05:55<28:28,  4.23batches/s, epoch=1, loss=3.29, split=train]   2022-05-18 15:37:49 | WARNING | root | Converged objectives: []\n",
      "2022-05-18 15:37:49 | WARNING | root | Evaluating...\n",
      "***** Running Evaluation *****\n",
      "  Num examples = 24\n",
      "  Batch size = 1\n"
     ]
    },
    {
     "name": "stdout",
     "output_type": "stream",
     "text": [
      "{'loss': 2.3024, 'learning_rate': 2.0000000000000003e-06, 'train_Wiki-Sequence2Sequence_loss': 3.0922449231147766, 'train_Wiki-Sequence2Sequence_num_batches': 20, 'epoch': 0.02}\n"
     ]
    },
    {
     "name": "stderr",
     "output_type": "stream",
     "text": [
      "Wiki-Sequence2Sequence:   0%|          | 0/12 [01:19<?, ?batches/s, epoch=1, loss=-1, split=eval]\n",
      "Wiki-Sequence2Sequence: 100%|██████████| 12/12 [00:00<00:00,  9.63batches/s, epoch=1, loss=1.38, split=eval]\n",
      "Opensub-Sequence2Sequence:   0%|          | 0/12 [00:58<?, ?batches/s, epoch=0, loss=-1, split=eval]\n",
      "\n",
      "Opensub-Sequence2Sequence:  50%|█████     | 6/12 [00:00<00:00, 51.90batches/s, epoch=0, loss=0.932, split=eval]\u001B[A\n",
      "Wiki-Sequence2Sequence: 13batches [00:01, 10.18batches/s, epoch=1, loss=4.23, split=eval]                   al]\u001B[A\n",
      "\n",
      "Opensub-Sequence2Sequence: 13batches [00:18,  1.45s/batches, epoch=0, loss=0.676, split=eval]                  \u001B[A\n",
      "2022-05-18 15:38:13 | WARNING | root | Converged objectives: []\n",
      "Wiki-Sequence2Sequence:  22%|██▏       | 2002/9229 [06:19<10:29:03,  5.22s/batches, epoch=1, loss=2.19, split=train]"
     ]
    },
    {
     "name": "stdout",
     "output_type": "stream",
     "text": [
      "{'eval_loss': 1.5825088024139404, 'eval_runtime': 1.2816, 'eval_samples_per_second': 156.059, 'eval_steps_per_second': 156.059, 'eval_Wiki-Sequence2Sequence_loss': 2.0929031051122227, 'eval_Wiki-Sequence2Sequence_num_batches': 65, 'eval_Wiki-Sequence2Sequence_BLEU-gen': 40.74483165473145, 'eval_Opensub-Sequence2Sequence_loss': 1.120223727593055, 'eval_Opensub-Sequence2Sequence_num_batches': 65, 'eval_Opensub-Sequence2Sequence_BLEU-gen': 34.08044916118936, 'epoch': 0.02}\n"
     ]
    },
    {
     "name": "stderr",
     "output_type": "stream",
     "text": [
      "Wiki-Sequence2Sequence:  26%|██▌       | 2400/9229 [07:16<28:38,  3.97batches/s, epoch=1, loss=2.96, split=train]   2022-05-18 15:39:11 | WARNING | root | Converged objectives: []\n",
      "2022-05-18 15:39:11 | WARNING | root | Evaluating...\n",
      "***** Running Evaluation *****\n",
      "  Num examples = 24\n",
      "  Batch size = 1\n"
     ]
    },
    {
     "name": "stdout",
     "output_type": "stream",
     "text": [
      "{'loss': 2.7079, 'learning_rate': 2.4000000000000003e-06, 'train_Wiki-Sequence2Sequence_loss': 3.840408110618591, 'train_Wiki-Sequence2Sequence_num_batches': 20, 'epoch': 0.03}\n"
     ]
    },
    {
     "name": "stderr",
     "output_type": "stream",
     "text": [
      "Wiki-Sequence2Sequence:   0%|          | 0/12 [01:20<?, ?batches/s, epoch=1, loss=-1, split=eval]\n",
      "Wiki-Sequence2Sequence: 100%|██████████| 12/12 [00:00<00:00,  9.74batches/s, epoch=1, loss=1.37, split=eval]\n",
      "Opensub-Sequence2Sequence:   0%|          | 0/12 [01:02<?, ?batches/s, epoch=0, loss=-1, split=eval]\n",
      "\n",
      "Opensub-Sequence2Sequence:  50%|█████     | 6/12 [00:00<00:00, 57.67batches/s, epoch=0, loss=0.935, split=eval]\u001B[A\n",
      "Wiki-Sequence2Sequence: 13batches [00:01, 10.45batches/s, epoch=1, loss=4.21, split=eval]                   al]\u001B[A\n",
      "\n",
      "Opensub-Sequence2Sequence: 13batches [00:15,  1.21s/batches, epoch=0, loss=0.671, split=eval]                  \u001B[A\n",
      "2022-05-18 15:39:31 | WARNING | root | Converged objectives: []\n"
     ]
    },
    {
     "name": "stdout",
     "output_type": "stream",
     "text": [
      "{'eval_loss': 1.5757427215576172, 'eval_runtime': 1.2486, 'eval_samples_per_second': 160.176, 'eval_steps_per_second': 160.176, 'eval_Wiki-Sequence2Sequence_loss': 2.085502403668868, 'eval_Wiki-Sequence2Sequence_num_batches': 78, 'eval_Wiki-Sequence2Sequence_BLEU-gen': 40.566049366399504, 'eval_Opensub-Sequence2Sequence_loss': 1.1173508686897082, 'eval_Opensub-Sequence2Sequence_num_batches': 78, 'eval_Opensub-Sequence2Sequence_BLEU-gen': 34.30814750204521, 'epoch': 0.03}\n"
     ]
    },
    {
     "name": "stderr",
     "output_type": "stream",
     "text": [
      "Wiki-Sequence2Sequence:  30%|███       | 2799/9229 [08:29<11:44,  9.13batches/s, epoch=1, loss=1.96, split=train]   2022-05-18 15:40:24 | WARNING | root | Converged objectives: []\n",
      "2022-05-18 15:40:24 | WARNING | root | Evaluating...\n",
      "***** Running Evaluation *****\n",
      "  Num examples = 24\n",
      "  Batch size = 1\n"
     ]
    },
    {
     "name": "stdout",
     "output_type": "stream",
     "text": [
      "{'loss': 2.3469, 'learning_rate': 2.8000000000000003e-06, 'train_Wiki-Sequence2Sequence_loss': 2.4922434031963348, 'train_Wiki-Sequence2Sequence_num_batches': 20, 'epoch': 0.03}\n"
     ]
    },
    {
     "name": "stderr",
     "output_type": "stream",
     "text": [
      "Wiki-Sequence2Sequence:   0%|          | 0/12 [01:11<?, ?batches/s, epoch=1, loss=-1, split=eval]\n",
      "Wiki-Sequence2Sequence: 100%|██████████| 12/12 [00:00<00:00,  9.71batches/s, epoch=1, loss=1.37, split=eval]\n",
      "Opensub-Sequence2Sequence:   0%|          | 0/12 [00:57<?, ?batches/s, epoch=0, loss=-1, split=eval]\n",
      "\n",
      "Opensub-Sequence2Sequence:  50%|█████     | 6/12 [00:00<00:00, 57.50batches/s, epoch=0, loss=0.93, split=eval]\u001B[A\n",
      "Wiki-Sequence2Sequence: 13batches [00:01, 10.48batches/s, epoch=1, loss=4.2, split=eval]                    al]\u001B[A\n",
      "Opensub-Sequence2Sequence: 13batches [00:18,  1.44s/batches, epoch=0, loss=0.66, split=eval]                   \n",
      "2022-05-18 15:40:48 | WARNING | root | Converged objectives: []\n",
      "Wiki-Sequence2Sequence:  30%|███       | 2802/9229 [08:54<6:25:04,  3.59s/batches, epoch=1, loss=2.04, split=train]"
     ]
    },
    {
     "name": "stdout",
     "output_type": "stream",
     "text": [
      "{'eval_loss': 1.5681531429290771, 'eval_runtime': 1.2444, 'eval_samples_per_second': 160.724, 'eval_steps_per_second': 160.724, 'eval_Wiki-Sequence2Sequence_loss': 2.078510567382142, 'eval_Wiki-Sequence2Sequence_num_batches': 91, 'eval_Wiki-Sequence2Sequence_BLEU-gen': 40.604685723278365, 'eval_Opensub-Sequence2Sequence_loss': 1.1148359710043603, 'eval_Opensub-Sequence2Sequence_num_batches': 91, 'eval_Opensub-Sequence2Sequence_BLEU-gen': 33.81431821416742, 'epoch': 0.03}\n"
     ]
    },
    {
     "name": "stderr",
     "output_type": "stream",
     "text": [
      "Wiki-Sequence2Sequence:  35%|███▍      | 3199/9229 [09:52<13:58,  7.19batches/s, epoch=1, loss=1.21, split=train]  2022-05-18 15:41:46 | WARNING | root | Converged objectives: []\n",
      "2022-05-18 15:41:46 | WARNING | root | Evaluating...\n",
      "***** Running Evaluation *****\n",
      "  Num examples = 24\n",
      "  Batch size = 1\n"
     ]
    },
    {
     "name": "stdout",
     "output_type": "stream",
     "text": [
      "{'loss': 2.399, 'learning_rate': 3.2000000000000003e-06, 'train_Wiki-Sequence2Sequence_loss': 2.7137348473072054, 'train_Wiki-Sequence2Sequence_num_batches': 20, 'epoch': 0.03}\n"
     ]
    },
    {
     "name": "stderr",
     "output_type": "stream",
     "text": [
      "Wiki-Sequence2Sequence:   0%|          | 0/12 [01:21<?, ?batches/s, epoch=1, loss=-1, split=eval]\n",
      "Wiki-Sequence2Sequence: 100%|██████████| 12/12 [00:00<00:00,  9.76batches/s, epoch=1, loss=1.37, split=eval]\n",
      "Opensub-Sequence2Sequence:   0%|          | 0/12 [01:03<?, ?batches/s, epoch=0, loss=-1, split=eval]\n",
      "\n",
      "Opensub-Sequence2Sequence:  50%|█████     | 6/12 [00:00<00:00, 56.64batches/s, epoch=0, loss=0.933, split=eval]\u001B[A\n",
      "Wiki-Sequence2Sequence: 13batches [00:01, 10.44batches/s, epoch=1, loss=4.19, split=eval]                   al]\u001B[A\n",
      "Opensub-Sequence2Sequence: 13batches [00:15,  1.20s/batches, epoch=0, loss=0.66, split=eval]                   \n",
      "2022-05-18 15:42:07 | WARNING | root | Converged objectives: []\n",
      "Wiki-Sequence2Sequence:  35%|███▍      | 3202/9229 [10:12<5:03:39,  3.02s/batches, epoch=1, loss=1.35, split=train]"
     ]
    },
    {
     "name": "stdout",
     "output_type": "stream",
     "text": [
      "{'eval_loss': 1.5618665218353271, 'eval_runtime': 1.2468, 'eval_samples_per_second': 160.413, 'eval_steps_per_second': 160.413, 'eval_Wiki-Sequence2Sequence_loss': 2.1069789761304856, 'eval_Wiki-Sequence2Sequence_num_batches': 100, 'eval_Wiki-Sequence2Sequence_BLEU-gen': 40.45699478308604, 'eval_Opensub-Sequence2Sequence_loss': 1.107856280207634, 'eval_Opensub-Sequence2Sequence_num_batches': 100, 'eval_Opensub-Sequence2Sequence_BLEU-gen': 34.267562743943515, 'epoch': 0.03}\n",
      "2022-05-18 21:05:15 | WARNING | root | Scheduler reached the given maximum number of epochs for all objectives. Triggering termination.\n",
      "2022-05-18 21:05:15 | WARNING | root | Scheduler reached a termination condition: ALL_OBJECTIVES_NUM_EPOCHS\n",
      "2022-05-18 21:05:15 | WARNING | root | Evaluating...\n",
      "***** Running Evaluation *****\n",
      "  Num examples = 24\n",
      "  Batch size = 1\n",
      "{'loss': 1.1921, 'learning_rate': 1.839624313308524e-05, 'train_Wiki-Sequence2Sequence_loss': 1.2053922072052956, 'train_Wiki-Sequence2Sequence_num_batches': 20, 'epoch': 1.0}\n"
     ]
    },
    {
     "name": "stderr",
     "output_type": "stream",
     "text": [
      "Wiki-Sequence2Sequence:   0%|          | 0/12 [01:49<?, ?batches/s, epoch=10, loss=-1, split=eval]\n",
      "Wiki-Sequence2Sequence:   8%|▊         | 1/12 [00:00<00:00, 35.24batches/s, epoch=11, loss=0.764, split=eval]\n",
      "Opensub-Sequence2Sequence:   0%|          | 0/12 [01:47<?, ?batches/s, epoch=0, loss=-1, split=eval]\n",
      "Wiki-Sequence2Sequence:   1%|          | 100/9229 [00:28<13:43, 11.08batches/s, epoch=11, loss=0.469, split=train]2022-05-18 21:05:37 | WARNING | root | Scheduler reached the given maximum number of epochs for all objectives. Triggering termination.\n",
      "2022-05-18 21:05:37 | WARNING | root | Scheduler reached a termination condition: ALL_OBJECTIVES_NUM_EPOCHS\n",
      "\n",
      "\n",
      "Training completed. Do not forget to share your model on huggingface.co/models =)\n",
      "\n",
      "\n",
      "2022-05-18 21:05:37 | WARNING | root | Scheduler reached the given maximum number of epochs for all objectives. Triggering termination.\n",
      "2022-05-18 21:05:37 | WARNING | root | Scheduler reached a termination condition: ALL_OBJECTIVES_NUM_EPOCHS\n"
     ]
    },
    {
     "name": "stdout",
     "output_type": "stream",
     "text": [
      "{'eval_loss': 0.7644965052604675, 'eval_runtime': 0.0305, 'eval_samples_per_second': 261.927, 'eval_steps_per_second': 261.927, 'eval_Wiki-Sequence2Sequence_loss': 1.5943953630328178, 'eval_Wiki-Sequence2Sequence_num_batches': 100, 'eval_Wiki-Sequence2Sequence_BLEU-gen': 39.88782615413746, 'eval_Opensub-Sequence2Sequence_loss': 1.5059486478567123, 'eval_Opensub-Sequence2Sequence_num_batches': 100, 'eval_Opensub-Sequence2Sequence_BLEU-gen': 24.481207223719124, 'epoch': 1.0}\n",
      "{'train_runtime': 20023.1852, 'train_samples_per_second': 46.092, 'train_steps_per_second': 11.523, 'train_loss': 1.647409159342448, 'train_Wiki-Sequence2Sequence_loss': 1.2053922072052956, 'train_Wiki-Sequence2Sequence_num_batches': 20, 'epoch': 1.0}\n"
     ]
    },
    {
     "data": {
      "text/plain": [
       "TrainOutput(global_step=23100, training_loss=1.647409159342448, metrics={'train_runtime': 20023.1852, 'train_samples_per_second': 46.092, 'train_steps_per_second': 11.523, 'total_flos': 0.0, 'train_loss': 1.647409159342448})"
      ]
     },
     "execution_count": 12,
     "metadata": {},
     "output_type": "execute_result"
    }
   ],
   "source": [
    "adapter.train()"
   ]
  },
  {
   "cell_type": "markdown",
   "metadata": {},
   "source": [
    "The training terminates when the selected `StoppingStrategy` is satisfied. There is a slightly larger list of options to pick from, to cover the wider variety of multi-objective situations. See the [StoppingStrategy options](https://github.com/gaussalgo/adaptor/blob/db33e6e439babc68fe801a8946d87116ff44f170/adaptor/utils.py#L19).\n",
    "\n",
    "Let's quickly check if the training was terminated by a number of epochs (as the log says -- note the `Scheduler reached a termination condition` message in the log), or our `stopping_strategy=StoppingStrategy.ALL_OBJECTIVES_CONVERGED` (according to BLEU, since we've initialised it with `decides_convergence=True`)"
   ]
  },
  {
   "cell_type": "code",
   "execution_count": null,
   "metadata": {},
   "outputs": [],
   "source": [
    "# eval BLEU\n",
    "\n",
    "import pandas as pd\n",
    "\n",
    "pd.Series(seq_wiki.evaluations_history[\"eval\"][evaluators[0]]).plot(figsize=(15, 7), grid=True)"
   ]
  },
  {
   "cell_type": "code",
   "execution_count": 13,
   "metadata": {},
   "outputs": [
    {
     "data": {
      "text/plain": [
       "<AxesSubplot:>"
      ]
     },
     "execution_count": 13,
     "metadata": {},
     "output_type": "execute_result"
    },
    {
     "data": {
      "image/png": "[encoded data removed]",
      "text/plain": [
       "<Figure size 1080x504 with 1 Axes>"
      ]
     },
     "metadata": {
      "needs_background": "light"
     },
     "output_type": "display_data"
    }
   ],
   "source": [
    "# eval loss\n",
    "\n",
    "import pandas as pd\n",
    "\n",
    "pd.Series(seq_wiki.evaluations_history[\"eval\"][\"loss\"]).plot(figsize=(15, 7), grid=True)"
   ]
  },
  {
   "cell_type": "markdown",
   "metadata": {},
   "source": [
    "### Unsupervised adaptation\n",
    "\n",
    "In this experiment we'll see hiw far can we get without a large set of aligned supervised texts."
   ]
  },
  {
   "cell_type": "code",
   "execution_count": 14,
   "metadata": {},
   "outputs": [
    {
     "name": "stderr",
     "output_type": "stream",
     "text": [
      "loading configuration file https://huggingface.co/Helsinki-NLP/opus-mt-cs-en/resolve/main/config.json from cache at /home/xstefan3/.cache/huggingface/transformers/8574c5a6a6364b41827117f086812030143d2b25b92206d8b3f6d684745e8066.7bb9e3260d1abcad4452c2a159fd1668543f0b66b704f6ef4197dc58ccd92176\n",
      "Model config MarianConfig {\n",
      "  \"_num_labels\": 3,\n",
      "  \"activation_dropout\": 0.0,\n",
      "  \"activation_function\": \"swish\",\n",
      "  \"add_bias_logits\": false,\n",
      "  \"add_final_layer_norm\": false,\n",
      "  \"architectures\": [\n",
      "    \"MarianMTModel\"\n",
      "  ],\n",
      "  \"attention_dropout\": 0.0,\n",
      "  \"bad_words_ids\": [\n",
      "    [\n",
      "      62508\n",
      "    ]\n",
      "  ],\n",
      "  \"bos_token_id\": 0,\n",
      "  \"classif_dropout\": 0.0,\n",
      "  \"classifier_dropout\": 0.0,\n",
      "  \"d_model\": 512,\n",
      "  \"decoder_attention_heads\": 8,\n",
      "  \"decoder_ffn_dim\": 2048,\n",
      "  \"decoder_layerdrop\": 0.0,\n",
      "  \"decoder_layers\": 6,\n",
      "  \"decoder_start_token_id\": 62508,\n",
      "  \"dropout\": 0.1,\n",
      "  \"encoder_attention_heads\": 8,\n",
      "  \"encoder_ffn_dim\": 2048,\n",
      "  \"encoder_layerdrop\": 0.0,\n",
      "  \"encoder_layers\": 6,\n",
      "  \"eos_token_id\": 0,\n",
      "  \"forced_eos_token_id\": 0,\n",
      "  \"gradient_checkpointing\": false,\n",
      "  \"id2label\": {\n",
      "    \"0\": \"LABEL_0\",\n",
      "    \"1\": \"LABEL_1\",\n",
      "    \"2\": \"LABEL_2\"\n",
      "  },\n",
      "  \"init_std\": 0.02,\n",
      "  \"is_encoder_decoder\": true,\n",
      "  \"label2id\": {\n",
      "    \"LABEL_0\": 0,\n",
      "    \"LABEL_1\": 1,\n",
      "    \"LABEL_2\": 2\n",
      "  },\n",
      "  \"max_length\": 512,\n",
      "  \"max_position_embeddings\": 512,\n",
      "  \"model_type\": \"marian\",\n",
      "  \"normalize_before\": false,\n",
      "  \"normalize_embedding\": false,\n",
      "  \"num_beams\": 4,\n",
      "  \"num_hidden_layers\": 6,\n",
      "  \"pad_token_id\": 62508,\n",
      "  \"scale_embedding\": true,\n",
      "  \"static_position_embeddings\": true,\n",
      "  \"transformers_version\": \"4.10.2\",\n",
      "  \"use_cache\": true,\n",
      "  \"vocab_size\": 62509\n",
      "}\n",
      "\n",
      "loading file https://huggingface.co/Helsinki-NLP/opus-mt-cs-en/resolve/main/source.spm from cache at /home/xstefan3/.cache/huggingface/transformers/de8aa4e2d80168b5e21926507904d37e0029e2cd9109288dc8bca1a53bf16fc2.f7b8f33623917afa192c98e8cdb7110a96e4ef9f1f49ad2548a62236c818d814\n",
      "loading file https://huggingface.co/Helsinki-NLP/opus-mt-cs-en/resolve/main/target.spm from cache at /home/xstefan3/.cache/huggingface/transformers/a622ae1fe7c735110523a7462cefcb232a7c57d64bf782bb5e5b18d88199cd57.802f2650721ec7e21ef8b2ec0a6adbdfa24815d20e3bc4b2994a4e7323207ae2\n",
      "loading file https://huggingface.co/Helsinki-NLP/opus-mt-cs-en/resolve/main/vocab.json from cache at /home/xstefan3/.cache/huggingface/transformers/cb57aa91d734e65f18e4a475380972973fc9e427cd781bb8017e5a65e00fbb40.12e5a9c0c42c3467972154314fa3a3c04b52a6735d1cd7216a6facbb0de44ce3\n",
      "loading file https://huggingface.co/Helsinki-NLP/opus-mt-cs-en/resolve/main/tokenizer_config.json from cache at /home/xstefan3/.cache/huggingface/transformers/05a1c2f3d66206e92f99c7a3a7498ceafb8081ce786d4cc6a277da08e09599a0.c5753583caba2512f03c1dd8a50811762daadc90baedc6c606c7b137759e05e4\n",
      "loading file https://huggingface.co/Helsinki-NLP/opus-mt-cs-en/resolve/main/added_tokens.json from cache at None\n",
      "loading file https://huggingface.co/Helsinki-NLP/opus-mt-cs-en/resolve/main/special_tokens_map.json from cache at None\n",
      "loading file https://huggingface.co/Helsinki-NLP/opus-mt-cs-en/resolve/main/tokenizer.json from cache at None\n",
      "loading configuration file https://huggingface.co/Helsinki-NLP/opus-mt-cs-en/resolve/main/config.json from cache at /home/xstefan3/.cache/huggingface/transformers/8574c5a6a6364b41827117f086812030143d2b25b92206d8b3f6d684745e8066.7bb9e3260d1abcad4452c2a159fd1668543f0b66b704f6ef4197dc58ccd92176\n",
      "Model config MarianConfig {\n",
      "  \"_num_labels\": 3,\n",
      "  \"activation_dropout\": 0.0,\n",
      "  \"activation_function\": \"swish\",\n",
      "  \"add_bias_logits\": false,\n",
      "  \"add_final_layer_norm\": false,\n",
      "  \"architectures\": [\n",
      "    \"MarianMTModel\"\n",
      "  ],\n",
      "  \"attention_dropout\": 0.0,\n",
      "  \"bad_words_ids\": [\n",
      "    [\n",
      "      62508\n",
      "    ]\n",
      "  ],\n",
      "  \"bos_token_id\": 0,\n",
      "  \"classif_dropout\": 0.0,\n",
      "  \"classifier_dropout\": 0.0,\n",
      "  \"d_model\": 512,\n",
      "  \"decoder_attention_heads\": 8,\n",
      "  \"decoder_ffn_dim\": 2048,\n",
      "  \"decoder_layerdrop\": 0.0,\n",
      "  \"decoder_layers\": 6,\n",
      "  \"decoder_start_token_id\": 62508,\n",
      "  \"dropout\": 0.1,\n",
      "  \"encoder_attention_heads\": 8,\n",
      "  \"encoder_ffn_dim\": 2048,\n",
      "  \"encoder_layerdrop\": 0.0,\n",
      "  \"encoder_layers\": 6,\n",
      "  \"eos_token_id\": 0,\n",
      "  \"forced_eos_token_id\": 0,\n",
      "  \"gradient_checkpointing\": false,\n",
      "  \"id2label\": {\n",
      "    \"0\": \"LABEL_0\",\n",
      "    \"1\": \"LABEL_1\",\n",
      "    \"2\": \"LABEL_2\"\n",
      "  },\n",
      "  \"init_std\": 0.02,\n",
      "  \"is_encoder_decoder\": true,\n",
      "  \"label2id\": {\n",
      "    \"LABEL_0\": 0,\n",
      "    \"LABEL_1\": 1,\n",
      "    \"LABEL_2\": 2\n",
      "  },\n",
      "  \"max_length\": 512,\n",
      "  \"max_position_embeddings\": 512,\n",
      "  \"model_type\": \"marian\",\n",
      "  \"normalize_before\": false,\n",
      "  \"normalize_embedding\": false,\n",
      "  \"num_beams\": 4,\n",
      "  \"num_hidden_layers\": 6,\n",
      "  \"pad_token_id\": 62508,\n",
      "  \"scale_embedding\": true,\n",
      "  \"static_position_embeddings\": true,\n",
      "  \"transformers_version\": \"4.10.2\",\n",
      "  \"use_cache\": true,\n",
      "  \"vocab_size\": 62509\n",
      "}\n",
      "\n"
     ]
    }
   ],
   "source": [
    "from adaptor.lang_module import LangModule\n",
    "\n",
    "lang_module = LangModule(\"Helsinki-NLP/opus-mt-%s-%s\" % (src_lang, tgt_lang))"
   ]
  },
  {
   "cell_type": "markdown",
   "metadata": {},
   "source": [
    "We'll use `BackTranslation` objective, that first translates the target texts into the source language using given `BackTranslator` instance. This way, we do not need to provide the objective an aligned set of samples, but we still need unsupervised data of the target language.\n",
    "\n",
    "Of course, the eventual quality of such-trained model also heavily depends on a quaility of the BackTranslator. "
   ]
  },
  {
   "cell_type": "code",
   "execution_count": 15,
   "metadata": {},
   "outputs": [
    {
     "name": "stderr",
     "output_type": "stream",
     "text": [
      "loading configuration file https://huggingface.co/Helsinki-NLP/opus-mt-en-cs/resolve/main/config.json from cache at /home/xstefan3/.cache/huggingface/transformers/827ff170f0b812bc7aeb5b56274c2626143bc2254efa5d4df89cec71c2fec9ac.7bb9e3260d1abcad4452c2a159fd1668543f0b66b704f6ef4197dc58ccd92176\n",
      "Model config MarianConfig {\n",
      "  \"_num_labels\": 3,\n",
      "  \"activation_dropout\": 0.0,\n",
      "  \"activation_function\": \"swish\",\n",
      "  \"add_bias_logits\": false,\n",
      "  \"add_final_layer_norm\": false,\n",
      "  \"architectures\": [\n",
      "    \"MarianMTModel\"\n",
      "  ],\n",
      "  \"attention_dropout\": 0.0,\n",
      "  \"bad_words_ids\": [\n",
      "    [\n",
      "      62508\n",
      "    ]\n",
      "  ],\n",
      "  \"bos_token_id\": 0,\n",
      "  \"classif_dropout\": 0.0,\n",
      "  \"classifier_dropout\": 0.0,\n",
      "  \"d_model\": 512,\n",
      "  \"decoder_attention_heads\": 8,\n",
      "  \"decoder_ffn_dim\": 2048,\n",
      "  \"decoder_layerdrop\": 0.0,\n",
      "  \"decoder_layers\": 6,\n",
      "  \"decoder_start_token_id\": 62508,\n",
      "  \"dropout\": 0.1,\n",
      "  \"encoder_attention_heads\": 8,\n",
      "  \"encoder_ffn_dim\": 2048,\n",
      "  \"encoder_layerdrop\": 0.0,\n",
      "  \"encoder_layers\": 6,\n",
      "  \"eos_token_id\": 0,\n",
      "  \"forced_eos_token_id\": 0,\n",
      "  \"gradient_checkpointing\": false,\n",
      "  \"id2label\": {\n",
      "    \"0\": \"LABEL_0\",\n",
      "    \"1\": \"LABEL_1\",\n",
      "    \"2\": \"LABEL_2\"\n",
      "  },\n",
      "  \"init_std\": 0.02,\n",
      "  \"is_encoder_decoder\": true,\n",
      "  \"label2id\": {\n",
      "    \"LABEL_0\": 0,\n",
      "    \"LABEL_1\": 1,\n",
      "    \"LABEL_2\": 2\n",
      "  },\n",
      "  \"max_length\": 512,\n",
      "  \"max_position_embeddings\": 512,\n",
      "  \"model_type\": \"marian\",\n",
      "  \"normalize_before\": false,\n",
      "  \"normalize_embedding\": false,\n",
      "  \"num_beams\": 4,\n",
      "  \"num_hidden_layers\": 6,\n",
      "  \"pad_token_id\": 62508,\n",
      "  \"scale_embedding\": true,\n",
      "  \"static_position_embeddings\": true,\n",
      "  \"transformers_version\": \"4.10.2\",\n",
      "  \"use_cache\": true,\n",
      "  \"vocab_size\": 62509\n",
      "}\n",
      "\n",
      "loading file https://huggingface.co/Helsinki-NLP/opus-mt-en-cs/resolve/main/source.spm from cache at /home/xstefan3/.cache/huggingface/transformers/36561bb31c2702debc859e3fc9c11ac45adbb3a4744a0e2b52584026792a0441.802f2650721ec7e21ef8b2ec0a6adbdfa24815d20e3bc4b2994a4e7323207ae2\n",
      "loading file https://huggingface.co/Helsinki-NLP/opus-mt-en-cs/resolve/main/target.spm from cache at /home/xstefan3/.cache/huggingface/transformers/dd1424e7a7dd9e5fe463a64e61e76c5ba9bfd10fd37050320ddc510cff8f57ba.f7b8f33623917afa192c98e8cdb7110a96e4ef9f1f49ad2548a62236c818d814\n",
      "loading file https://huggingface.co/Helsinki-NLP/opus-mt-en-cs/resolve/main/vocab.json from cache at /home/xstefan3/.cache/huggingface/transformers/9865631fc3589f67952dcb08d792b7153a2017f43719cb789e2e982709c2177d.12e5a9c0c42c3467972154314fa3a3c04b52a6735d1cd7216a6facbb0de44ce3\n",
      "loading file https://huggingface.co/Helsinki-NLP/opus-mt-en-cs/resolve/main/tokenizer_config.json from cache at /home/xstefan3/.cache/huggingface/transformers/394726bea97903848d60aae65c9f2689bd34c0b22a19f5c5b845f0e0187081d8.4aad148346bf95da5e433798f4585a3f0286cac6642930115fe59af0be15b5f9\n",
      "loading file https://huggingface.co/Helsinki-NLP/opus-mt-en-cs/resolve/main/added_tokens.json from cache at None\n",
      "loading file https://huggingface.co/Helsinki-NLP/opus-mt-en-cs/resolve/main/special_tokens_map.json from cache at None\n",
      "loading file https://huggingface.co/Helsinki-NLP/opus-mt-en-cs/resolve/main/tokenizer.json from cache at None\n",
      "loading configuration file https://huggingface.co/Helsinki-NLP/opus-mt-en-cs/resolve/main/config.json from cache at /home/xstefan3/.cache/huggingface/transformers/827ff170f0b812bc7aeb5b56274c2626143bc2254efa5d4df89cec71c2fec9ac.7bb9e3260d1abcad4452c2a159fd1668543f0b66b704f6ef4197dc58ccd92176\n",
      "Model config MarianConfig {\n",
      "  \"_num_labels\": 3,\n",
      "  \"activation_dropout\": 0.0,\n",
      "  \"activation_function\": \"swish\",\n",
      "  \"add_bias_logits\": false,\n",
      "  \"add_final_layer_norm\": false,\n",
      "  \"architectures\": [\n",
      "    \"MarianMTModel\"\n",
      "  ],\n",
      "  \"attention_dropout\": 0.0,\n",
      "  \"bad_words_ids\": [\n",
      "    [\n",
      "      62508\n",
      "    ]\n",
      "  ],\n",
      "  \"bos_token_id\": 0,\n",
      "  \"classif_dropout\": 0.0,\n",
      "  \"classifier_dropout\": 0.0,\n",
      "  \"d_model\": 512,\n",
      "  \"decoder_attention_heads\": 8,\n",
      "  \"decoder_ffn_dim\": 2048,\n",
      "  \"decoder_layerdrop\": 0.0,\n",
      "  \"decoder_layers\": 6,\n",
      "  \"decoder_start_token_id\": 62508,\n",
      "  \"dropout\": 0.1,\n",
      "  \"encoder_attention_heads\": 8,\n",
      "  \"encoder_ffn_dim\": 2048,\n",
      "  \"encoder_layerdrop\": 0.0,\n",
      "  \"encoder_layers\": 6,\n",
      "  \"eos_token_id\": 0,\n",
      "  \"forced_eos_token_id\": 0,\n",
      "  \"gradient_checkpointing\": false,\n",
      "  \"id2label\": {\n",
      "    \"0\": \"LABEL_0\",\n",
      "    \"1\": \"LABEL_1\",\n",
      "    \"2\": \"LABEL_2\"\n",
      "  },\n",
      "  \"init_std\": 0.02,\n",
      "  \"is_encoder_decoder\": true,\n",
      "  \"label2id\": {\n",
      "    \"LABEL_0\": 0,\n",
      "    \"LABEL_1\": 1,\n",
      "    \"LABEL_2\": 2\n",
      "  },\n",
      "  \"max_length\": 512,\n",
      "  \"max_position_embeddings\": 512,\n",
      "  \"model_type\": \"marian\",\n",
      "  \"normalize_before\": false,\n",
      "  \"normalize_embedding\": false,\n",
      "  \"num_beams\": 4,\n",
      "  \"num_hidden_layers\": 6,\n",
      "  \"pad_token_id\": 62508,\n",
      "  \"scale_embedding\": true,\n",
      "  \"static_position_embeddings\": true,\n",
      "  \"transformers_version\": \"4.10.2\",\n",
      "  \"use_cache\": true,\n",
      "  \"vocab_size\": 62509\n",
      "}\n",
      "\n",
      "loading configuration file https://huggingface.co/Helsinki-NLP/opus-mt-en-cs/resolve/main/config.json from cache at /home/xstefan3/.cache/huggingface/transformers/827ff170f0b812bc7aeb5b56274c2626143bc2254efa5d4df89cec71c2fec9ac.7bb9e3260d1abcad4452c2a159fd1668543f0b66b704f6ef4197dc58ccd92176\n",
      "Model config MarianConfig {\n",
      "  \"_num_labels\": 3,\n",
      "  \"activation_dropout\": 0.0,\n",
      "  \"activation_function\": \"swish\",\n",
      "  \"add_bias_logits\": false,\n",
      "  \"add_final_layer_norm\": false,\n",
      "  \"architectures\": [\n",
      "    \"MarianMTModel\"\n",
      "  ],\n",
      "  \"attention_dropout\": 0.0,\n",
      "  \"bad_words_ids\": [\n",
      "    [\n",
      "      62508\n",
      "    ]\n",
      "  ],\n",
      "  \"bos_token_id\": 0,\n",
      "  \"classif_dropout\": 0.0,\n",
      "  \"classifier_dropout\": 0.0,\n",
      "  \"d_model\": 512,\n",
      "  \"decoder_attention_heads\": 8,\n",
      "  \"decoder_ffn_dim\": 2048,\n",
      "  \"decoder_layerdrop\": 0.0,\n",
      "  \"decoder_layers\": 6,\n",
      "  \"decoder_start_token_id\": 62508,\n",
      "  \"dropout\": 0.1,\n",
      "  \"encoder_attention_heads\": 8,\n",
      "  \"encoder_ffn_dim\": 2048,\n",
      "  \"encoder_layerdrop\": 0.0,\n",
      "  \"encoder_layers\": 6,\n",
      "  \"eos_token_id\": 0,\n",
      "  \"forced_eos_token_id\": 0,\n",
      "  \"gradient_checkpointing\": false,\n",
      "  \"id2label\": {\n",
      "    \"0\": \"LABEL_0\",\n",
      "    \"1\": \"LABEL_1\",\n",
      "    \"2\": \"LABEL_2\"\n",
      "  },\n",
      "  \"init_std\": 0.02,\n",
      "  \"is_encoder_decoder\": true,\n",
      "  \"label2id\": {\n",
      "    \"LABEL_0\": 0,\n",
      "    \"LABEL_1\": 1,\n",
      "    \"LABEL_2\": 2\n",
      "  },\n",
      "  \"max_length\": 512,\n",
      "  \"max_position_embeddings\": 512,\n",
      "  \"model_type\": \"marian\",\n",
      "  \"normalize_before\": false,\n",
      "  \"normalize_embedding\": false,\n",
      "  \"num_beams\": 4,\n",
      "  \"num_hidden_layers\": 6,\n",
      "  \"pad_token_id\": 62508,\n",
      "  \"scale_embedding\": true,\n",
      "  \"static_position_embeddings\": true,\n",
      "  \"transformers_version\": \"4.10.2\",\n",
      "  \"use_cache\": true,\n",
      "  \"vocab_size\": 62509\n",
      "}\n",
      "\n",
      "loading weights file https://huggingface.co/Helsinki-NLP/opus-mt-en-cs/resolve/main/pytorch_model.bin from cache at /home/xstefan3/.cache/huggingface/transformers/8492de3383cb030e21a06a70f9c03669fdbce63c2ff0ece9a6175c8110720d9d.8771d1d8b1e0bfe440e0606c5f42988d8a31d2fbb37a1fa6b4a131d247363d7d\n",
      "All model checkpoint weights were used when initializing MarianMTModel.\n",
      "\n",
      "All the weights of MarianMTModel were initialized from the model checkpoint at Helsinki-NLP/opus-mt-en-cs.\n",
      "If your task is similar to the task the model of the checkpoint was trained on, you can already use MarianMTModel for predictions without further training.\n",
      "2022-05-18 21:05:50 | WARNING | root | Objective Wiki-Back-BackTranslation will use SEQ2SEQ head of Wiki-Sequence2Sequence objective\n",
      "2022-05-18 21:05:50 | WARNING | root | Wiki-Back-BackTranslation expects target-language texts as input_texts_or_path. This is not further checked. \n"
     ]
    }
   ],
   "source": [
    "from adaptor.objectives.backtranslation import BackTranslation, BackTranslator\n",
    "\n",
    "backtrans_wiki = BackTranslation(lang_module,\n",
    "                                 back_translator=BackTranslator(\"Helsinki-NLP/opus-mt-%s-%s\" % (tgt_lang, src_lang)),\n",
    "                                 texts_or_path=wiki_pairs.target,\n",
    "                                 val_texts_or_path=wiki_val_pairs.target,\n",
    "                                 batch_size=8,\n",
    "                                 share_other_objective_head=seq_wiki,\n",
    "                                 objective_id=\"Wiki-Back\")"
   ]
  },
  {
   "cell_type": "markdown",
   "metadata": {},
   "source": [
    "All the other pieces of puzzle remain the same. We'll initialise extra evaluation objective though, to be able to compare the logs of the two evaluation objectives based on their history."
   ]
  },
  {
   "cell_type": "code",
   "execution_count": 16,
   "metadata": {},
   "outputs": [
    {
     "name": "stderr",
     "output_type": "stream",
     "text": [
      "2022-05-18 21:05:50 | WARNING | root | Objective Opensub-Sequence2Sequence will use SEQ2SEQ head of Wiki-Sequence2Sequence objective\n",
      "2022-05-18 21:05:50 | WARNING | root | These layers of the loaded SEQ2SEQ were not merged: []\n"
     ]
    }
   ],
   "source": [
    "eval_opensub_unsup = Sequence2Sequence(lang_module,\n",
    "                                 texts_or_path=opensub_pairs.source,\n",
    "                                 labels_or_path=opensub_pairs.target,\n",
    "                                 val_texts_or_path=opensub_val_pairs.source,\n",
    "                                 val_labels_or_path=opensub_val_pairs.target,\n",
    "                                 source_lang_id=src_lang,\n",
    "                                 target_lang_id=tgt_lang,\n",
    "                                 batch_size=8,\n",
    "                                 val_evaluators=evaluators,\n",
    "                                 share_other_objective_head=seq_wiki,\n",
    "                                 objective_id=\"Opensub\")"
   ]
  },
  {
   "cell_type": "code",
   "execution_count": 17,
   "metadata": {},
   "outputs": [
    {
     "name": "stderr",
     "output_type": "stream",
     "text": [
      "2022-05-18 21:05:50 | WARNING | root | Total number of train samples: 73835\n",
      "2022-05-18 21:05:50 | WARNING | root | Total number of eval samples: 200\n"
     ]
    }
   ],
   "source": [
    "from adaptor.schedules import SequentialSchedule\n",
    "from adaptor.adapter import Adapter\n",
    "\n",
    "schedule = SequentialSchedule(objectives=[backtrans_wiki],\n",
    "                              extra_eval_objectives=[eval_opensub_unsup],\n",
    "                              args=training_arguments)\n",
    "adapter = Adapter(lang_module, schedule, args=training_arguments)"
   ]
  },
  {
   "cell_type": "markdown",
   "metadata": {},
   "source": [
    "Though this training will take somewhat longer, since the back-translation of the samples in the first epoch is performed on-the-fly."
   ]
  },
  {
   "cell_type": "code",
   "execution_count": null,
   "metadata": {
    "pycharm": {
     "is_executing": true
    }
   },
   "outputs": [],
   "source": [
    "adapter.train()"
   ]
  },
  {
   "cell_type": "markdown",
   "metadata": {},
   "source": [
    "## Analysis\n",
    "\n",
    "Let's see how the supervised adaptation is doing in comparison with the unsupervised BackTranslation objective.\n",
    "\n",
    "Thanks to Adaptor's separation to objectives, we can conveniently take a look at the validation accuracies of the two experiments, separately on in-distribution and out-of-distribution BLEU. "
   ]
  },
  {
   "cell_type": "code",
   "execution_count": null,
   "metadata": {},
   "outputs": [],
   "source": [
    "import pandas as pd\n",
    "\n",
    "wiki_bleus_sup = pd.Series(seq_wiki.evaluations_history['eval'][evaluators[0]])\n",
    "wiki_bleus_unsup = pd.Series(backtrans_wiki.evaluations_history['eval'][evaluators[0]])\n",
    "\n",
    "index = range(0, len(wiki_bleus_sup)*training_arguments.eval_steps, training_arguments.eval_steps)\n",
    "\n",
    "wiki_bleus_sup.index = index\n",
    "wiki_bleus_unsup.index = index\n",
    "\n",
    "wiki_bleus_sup.plot(figsize=(14, 5), grid=True, ylim=(0.75, 0.9), color=\"blue\", label=\"In-domain validation BLEU of supervised adaptation\")\n",
    "wiki_bleus_unsup.plot(figsize=(14, 5), grid=True, ylim=(0.75, 0.9), color=\"blue\", alpha=0.7, label=\"in-domain validation BLEU of unsupervised adaptation\")"
   ]
  },
  {
   "cell_type": "code",
   "execution_count": null,
   "metadata": {},
   "outputs": [],
   "source": [
    "opensub_bleus_sup = pd.Series(eval_opensub.evaluations_history['eval'][evaluators[0]])\n",
    "opensub_bleus_unsup = pd.Series(eval_opensub_unsup.evaluations_history['eval'][evaluators[0]])\n",
    "\n",
    "index = range(0, len(opensub_bleus_sup)*training_arguments.eval_steps, training_arguments.eval_steps)\n",
    "\n",
    "opensub_bleus_sup.index = index\n",
    "opensub_bleus_unsup.index = index\n",
    "\n",
    "opensub_bleus_sup.plot(figsize=(14, 5), grid=True, ylim=(0.75, 0.9), color=\"blue\", label=\"Out-of-domain validation BLEU of supervised adaptation\")\n",
    "opensub_bleus_unsup.plot(figsize=(14, 5), grid=True, ylim=(0.75, 0.9), color=\"blue\", alpha=0.7, label=\"Out-of-domain validation BLEU of unsupervised adaptation\")"
   ]
  },
  {
   "cell_type": "markdown",
   "metadata": {},
   "source": [
    "## Evaluation\n",
    "\n",
    "Finally, we evaluate the out models of both trainings, to see which performs better on a held-out set.\n",
    "\n",
    "Note, that in both cases, we've used `stopping_strategy=StoppingStrategy.ALL_OBJECTIVES_CONVERGED`, so the evaluated model is the model after passing this stopping criteria."
   ]
  },
  {
   "cell_type": "code",
   "execution_count": null,
   "metadata": {},
   "outputs": [],
   "source": [
    "supervised_model = seq_wiki.compatible_head_model\n",
    "unsupervised_model = backtrans_wiki.compatible_head_model\n",
    "\n",
    "evaluator = BLEU(additional_sep_char=\"▁\")"
   ]
  },
  {
   "cell_type": "code",
   "execution_count": null,
   "metadata": {},
   "outputs": [],
   "source": [
    "def evaluate_bleu(dataset, model) -> float:\n",
    "    references = []\n",
    "    hypotheses = []\n",
    "\n",
    "    for src_text, ref_text in zip(wiki_test_pairs.source, wiki_test_pairs.target):\n",
    "        references.append(ref_text)\n",
    "        inputs = lang_module.tokenizer(src_text, truncation=True, return_tensors=\"pt\").to(test_device)\n",
    "        outputs = translator_model.generate(**inputs)\n",
    "        translations = lang_module.tokenizer.batch_decode(outputs, remove_special_tokens=True)\n",
    "        hypotheses.append(translations[0])\n",
    "\n",
    "    bleu = evaluator.evaluate_str(references, hypotheses)\n",
    "    return bleu"
   ]
  },
  {
   "cell_type": "markdown",
   "metadata": {},
   "source": [
    "### In-distribution BLEUs: supervised & unsupervised"
   ]
  },
  {
   "cell_type": "code",
   "execution_count": null,
   "metadata": {},
   "outputs": [],
   "source": [
    "bleu_id_sup = evaluate_bleu(opensub_test_pairs, supervised_model)\n",
    "print(\"Test BLEU of supervised model on Wiki: %s\" % bleu_id_sup)"
   ]
  },
  {
   "cell_type": "code",
   "execution_count": null,
   "metadata": {},
   "outputs": [],
   "source": [
    "bleu_id_unsup = evaluate_bleu(wiki_test_pairs, unsupervised_model)\n",
    "print(\"Test BLEU of supervised model on Wiki: %s\" % bleu_id_unsup)"
   ]
  },
  {
   "cell_type": "markdown",
   "metadata": {},
   "source": [
    "### Out-of-distribution BLEUs: supervised & unsupervised"
   ]
  },
  {
   "cell_type": "code",
   "execution_count": null,
   "metadata": {},
   "outputs": [],
   "source": [
    "bleu_ood_sup = evaluate_bleu(opensub_test_pairs, supervised_model)\n",
    "print(\"Test BLEU of supervised model on Wiki: %s\" % bleu_ood_sup)"
   ]
  },
  {
   "cell_type": "code",
   "execution_count": null,
   "metadata": {
    "pycharm": {
     "name": "#%%\n"
    }
   },
   "outputs": [],
   "source": [
    "bleu_ood_unsup = evaluate_bleu(opensub_test_pairs, unsupervised_model)\n",
    "print(\"Test BLEU of supervised model on Wiki: %s\" % evaluate_bleu(opensub_test_pairs, unsupervised_model))"
   ]
  }
 ],
 "metadata": {
  "kernelspec": {
   "display_name": "Python 3",
   "language": "python",
   "name": "python3"
  },
  "language_info": {
   "codemirror_mode": {
    "name": "ipython",
    "version": 3
   },
   "file_extension": ".py",
   "mimetype": "text/x-python",
   "name": "python",
   "nbconvert_exporter": "python",
   "pygments_lexer": "ipython3",
   "version": "3.7.3"
  }
 },
 "nbformat": 4,
 "nbformat_minor": 4
}